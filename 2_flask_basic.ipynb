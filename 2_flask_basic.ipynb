{
 "cells": [
  {
   "cell_type": "code",
   "execution_count": 7,
   "metadata": {},
   "outputs": [],
   "source": [
    "from flask import Flask"
   ]
  },
  {
   "cell_type": "markdown",
   "metadata": {},
   "source": [
    "1.2 Flask 객체를 app에 할당"
   ]
  },
  {
   "cell_type": "code",
   "execution_count": 8,
   "metadata": {},
   "outputs": [],
   "source": [
    "app = Flask(__name__)"
   ]
  },
  {
   "cell_type": "code",
   "execution_count": 9,
   "metadata": {},
   "outputs": [
    {
     "name": "stdout",
     "output_type": "stream",
     "text": [
      "__main__\n"
     ]
    }
   ],
   "source": [
    "print(__name__)"
   ]
  },
  {
   "cell_type": "markdown",
   "metadata": {},
   "source": [
    "#### __name__ 이란?\n",
    "    - __name__이라는 변수는 모듈의 이름이 저장됨.\n",
    "    - 실행하는 코드에서는 __main__값이 들어감.\n",
    "    - import로 설정하면, 모듈이름으로 실행됨."
   ]
  },
  {
   "cell_type": "markdown",
   "metadata": {},
   "source": [
    "##### 시작점 (entry point)\n",
    "- C나 JAVA 와 같은 보통의 언어는 코드를 시작하는 시작점을 가지고 있음.\n",
    "\n",
    "파이썬과 시작점\n",
    "- 파이썬 스크립트 언어\n",
    "- 스크립트 언어는 전통적으로 시작점 없이 스크립트 코드를 바로 실행함."
   ]
  },
  {
   "cell_type": "code",
   "execution_count": 4,
   "metadata": {},
   "outputs": [
    {
     "name": "stdout",
     "output_type": "stream",
     "text": [
      "1\n",
      "1\n"
     ]
    }
   ],
   "source": [
    "if __name__ == '__main__': # 모듈이 아니라, 해당 코드 직접 실행시만 실행\n",
    "    print(1)\n",
    "    print(1)"
   ]
  },
  {
   "cell_type": "markdown",
   "metadata": {},
   "source": [
    "#### Flask 객체 생성 \n",
    "- Flask(__name__) 으로 설정하여, 현재 위치를 flask객체에 알려줘야함.\n",
    "    - 이름을 변경해도 정상 실행되지만, 일부 확장 가능 기능 사용시에는 해당 이름을 정확히 알려주지 않을 경우, 정상 동작 되지 않음."
   ]
  },
  {
   "cell_type": "code",
   "execution_count": 5,
   "metadata": {},
   "outputs": [],
   "source": [
    "from dd\n",
    "import Flask\n",
    "app = Flask(__name__)"
   ]
  },
  {
   "cell_type": "code",
   "execution_count": 6,
   "metadata": {},
   "outputs": [
    {
     "data": {
      "text/plain": [
       "<Flask '__main__'>"
      ]
     },
     "execution_count": 6,
     "metadata": {},
     "output_type": "execute_result"
    }
   ],
   "source": [
    "app"
   ]
  },
  {
   "cell_type": "markdown",
   "metadata": {},
   "source": [
    "### 라우팅 (route) 기능\n",
    "적절한 목적지를 찾아주는 기능\n",
    "1.3 라우팅 경로를 설정"
   ]
  },
  {
   "cell_type": "code",
   "execution_count": 6,
   "metadata": {},
   "outputs": [],
   "source": [
    "@app.route('/hello')\n",
    "def hello():\n",
    "    return \"<h1>Hello World</h1>\""
   ]
  },
  {
   "cell_type": "markdown",
   "metadata": {},
   "source": [
    "#### 메인 모듈로 실행될때 flask 웹 서버 구동\n",
    "- 서버 구동한 IP와 포트를 옵션으로 넣어줄수 있음\n",
    "- app.run() 함수로 서버 구동 가능\n",
    "    - host, port, debug 를 주로 사용함.\n",
    "        - host : 웹주소\n",
    "        - port: 포트\n",
    "        - debug: True or False\n",
    "\n",
    "run(host=None, port=None, debug=True)\n",
    "debug는 주피터는 안해도됨.\n"
   ]
  },
  {
   "cell_type": "markdown",
   "metadata": {},
   "source": [
    "Web서버 : 미리 작성된, 요청에 따른  정적인 데이터\n",
    "WAS서버 : 동적으로 데이터를 반환하도록 하기 위해서는 WAS 프레임워크가 필요.\n",
    "        ex ) 주요 WAS 프레임워크로는 flaks, django, rails, node.js 등이 있다.\n",
    "상용화를 위해서는 별도 웹서버를 사용해야하지만, 별도 필요"
   ]
  },
  {
   "cell_type": "code",
   "execution_count": 10,
   "metadata": {},
   "outputs": [],
   "source": [
    "\n",
    "host_addr = '127.0.0.0' # localhost\n",
    "port_num = '8080'  "
   ]
  },
  {
   "cell_type": "code",
   "execution_count": 12,
   "metadata": {},
   "outputs": [
    {
     "name": "stdout",
     "output_type": "stream",
     "text": [
      " * Serving Flask app '__main__'\n",
      " * Debug mode: off\n"
     ]
    },
    {
     "name": "stderr",
     "output_type": "stream",
     "text": [
      "WARNING: This is a development server. Do not use it in a production deployment. Use a production WSGI server instead.\n",
      " * Running on http://127.0.0.1:8080\n",
      "Press CTRL+C to quit\n",
      "127.0.0.1 - - [22/Oct/2023 19:07:48] \"GET / HTTP/1.1\" 404 -\n",
      "127.0.0.1 - - [22/Oct/2023 19:07:48] \"GET /favicon.ico HTTP/1.1\" 404 -\n",
      "127.0.0.1 - - [22/Oct/2023 19:08:24] \"GET /hello HTTP/1.1\" 200 -\n"
     ]
    }
   ],
   "source": [
    "#  전체 기본 코드 \n",
    "from flask import Flask\n",
    "app = Flask(__name__)\n",
    "@app.route(\"/hello\")\n",
    "def hello():\n",
    "    return \"<h1>Hello Flask!</h1>\"\n",
    "\n",
    "if __name__ == \"__main__\":\n",
    "    app.run(host='127.0.0.1', port=\"8080\")"
   ]
  },
  {
   "cell_type": "code",
   "execution_count": null,
   "metadata": {},
   "outputs": [],
   "source": [
    "\n"
   ]
  }
 ],
 "metadata": {
  "kernelspec": {
   "display_name": "Python 3",
   "language": "python",
   "name": "python3"
  },
  "language_info": {
   "codemirror_mode": {
    "name": "ipython",
    "version": 3
   },
   "file_extension": ".py",
   "mimetype": "text/x-python",
   "name": "python",
   "nbconvert_exporter": "python",
   "pygments_lexer": "ipython3",
   "version": "3.11.6"
  }
 },
 "nbformat": 4,
 "nbformat_minor": 2
}
