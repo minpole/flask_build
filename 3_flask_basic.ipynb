{
 "cells": [
  {
   "cell_type": "markdown",
   "metadata": {},
   "source": [
    "#### 2. 중첩 함수 (Nested function)\n",
    "\n",
    "- 함수 내부에 정의된 또 다른 함수\n",
    "- 중첩함수는 해당 함수가 정의된 함수 내에서 호출 및 반환 가능\n",
    "- 함수 안에 선언된 변수는 함수 안에서만 사용 가능한 원리와 동일 (로컬 변수)"
   ]
  },
  {
   "cell_type": "code",
   "execution_count": 5,
   "metadata": {},
   "outputs": [],
   "source": [
    "def outer_func():\n",
    "    print(\"call outer_func function\")\n",
    "\n",
    "    # 중첩함수 \n",
    "    def inner_func():\n",
    "        return \"call inner func function\"\n",
    "    \n",
    "    # 중첩 함수 호출 \n",
    "    print(inner_func())"
   ]
  },
  {
   "cell_type": "code",
   "execution_count": 9,
   "metadata": {},
   "outputs": [
    {
     "name": "stdout",
     "output_type": "stream",
     "text": [
      "call outer_func function\n",
      "call inner func function\n"
     ]
    }
   ],
   "source": [
    "outer_func()"
   ]
  },
  {
   "cell_type": "code",
   "execution_count": 13,
   "metadata": {},
   "outputs": [
    {
     "name": "stdout",
     "output_type": "stream",
     "text": [
      "10\n",
      "complex\n"
     ]
    }
   ],
   "source": [
    "def outer_func(num):\n",
    "    # 중첩 함수에서 외부 함수의 변수에 접근 가능\n",
    "    def inner_func():\n",
    "        print(num)\n",
    "        return 'complex'\n",
    "    return inner_func\n",
    "fn = outer_func(10) # < -- First-class function\n",
    "print(fn())         # < -- clouser 호출"
   ]
  },
  {
   "cell_type": "markdown",
   "metadata": {},
   "source": [
    "2.2 First-Class 함수\n",
    "  - 파이썬에서는 모두 First-class 함수 \n",
    "  - 파이썬에서 모든 것은 객체!\n",
    "      1. 함수 자체를 변수에 저장 가능\n",
    "      2. 함수의 인자에 다른 함수를 인수로 전달 가능\n",
    "      3. 함수의 반환 값(return 값)으로 함수를 전달 가능"
   ]
  },
  {
   "cell_type": "code",
   "execution_count": 14,
   "metadata": {},
   "outputs": [],
   "source": [
    "def calc_square(digit):\n",
    "    return digit * digit"
   ]
  },
  {
   "cell_type": "code",
   "execution_count": 15,
   "metadata": {},
   "outputs": [
    {
     "data": {
      "text/plain": [
       "4"
      ]
     },
     "execution_count": 15,
     "metadata": {},
     "output_type": "execute_result"
    }
   ],
   "source": [
    "calc_square(2)"
   ]
  },
  {
   "cell_type": "code",
   "execution_count": 16,
   "metadata": {},
   "outputs": [],
   "source": [
    "#  1. func1 이라는 변수에 함수를 할당 가능\n",
    "func1  = calc_square"
   ]
  },
  {
   "cell_type": "code",
   "execution_count": 23,
   "metadata": {},
   "outputs": [],
   "source": [
    "# 2. 함수를 다른 함수에 인자로 넣을 수도 있음.\n",
    "def calc_square(digit):\n",
    "    return digit * digit\n",
    "\n",
    "def calc_plus(digit):\n",
    "    return digit * digit\n",
    "\n",
    "def calc_quad(digit):\n",
    "    return digit * digit * digit * digit"
   ]
  },
  {
   "cell_type": "code",
   "execution_count": 24,
   "metadata": {},
   "outputs": [],
   "source": [
    "def list_square(function, digit_list):\n",
    "    result = list()\n",
    "    for digit in digit_list:\n",
    "        result.append(function(digit))\n",
    "    print(result)"
   ]
  },
  {
   "cell_type": "code",
   "execution_count": 25,
   "metadata": {},
   "outputs": [
    {
     "name": "stdout",
     "output_type": "stream",
     "text": [
      "[1, 4, 9, 16, 25]\n",
      "[1, 4, 9, 16, 25]\n",
      "[1, 16, 81, 256, 625]\n"
     ]
    }
   ],
   "source": [
    "num_list = [1,2,3,4,5]\n",
    "\n",
    "list_square(calc_square, num_list)\n",
    "list_square(calc_plus, num_list)\n",
    "list_square(calc_quad, num_list)"
   ]
  },
  {
   "cell_type": "code",
   "execution_count": 26,
   "metadata": {},
   "outputs": [],
   "source": [
    "def logger(msg):\n",
    "    message = msg\n",
    "    def msg_creator():\n",
    "        print('[HIGH LEVEL]', message)\n",
    "    return msg_creator"
   ]
  },
  {
   "cell_type": "code",
   "execution_count": 27,
   "metadata": {},
   "outputs": [],
   "source": [
    "log1 = logger(\"Dave Log-in\")"
   ]
  },
  {
   "cell_type": "code",
   "execution_count": 28,
   "metadata": {},
   "outputs": [
    {
     "name": "stdout",
     "output_type": "stream",
     "text": [
      "<function logger.<locals>.msg_creator at 0x00000209E1296980>\n"
     ]
    }
   ],
   "source": [
    "\n",
    "print(log1)"
   ]
  },
  {
   "cell_type": "code",
   "execution_count": 29,
   "metadata": {},
   "outputs": [
    {
     "name": "stdout",
     "output_type": "stream",
     "text": [
      "[HIGH LEVEL] Dave Log-in\n"
     ]
    }
   ],
   "source": [
    "log1()"
   ]
  },
  {
   "cell_type": "code",
   "execution_count": 30,
   "metadata": {},
   "outputs": [],
   "source": [
    "del logger"
   ]
  },
  {
   "cell_type": "code",
   "execution_count": 31,
   "metadata": {},
   "outputs": [
    {
     "ename": "NameError",
     "evalue": "name 'logger' is not defined",
     "output_type": "error",
     "traceback": [
      "\u001b[1;31m---------------------------------------------------------------------------\u001b[0m",
      "\u001b[1;31mNameError\u001b[0m                                 Traceback (most recent call last)",
      "\u001b[1;32mc:\\Users\\alsck\\OneDrive\\바탕 화면\\flask_구축\\3_flask_basic.ipynb 셀 17\u001b[0m line \u001b[0;36m1\n\u001b[1;32m----> <a href='vscode-notebook-cell:/c%3A/Users/alsck/OneDrive/%EB%B0%94%ED%83%95%20%ED%99%94%EB%A9%B4/flask_%EA%B5%AC%EC%B6%95/3_flask_basic.ipynb#X34sZmlsZQ%3D%3D?line=0'>1</a>\u001b[0m logger(\u001b[39m'\u001b[39m\u001b[39mhi\u001b[39m\u001b[39m'\u001b[39m)\n",
      "\u001b[1;31mNameError\u001b[0m: name 'logger' is not defined"
     ]
    }
   ],
   "source": [
    "logger('hi')"
   ]
  },
  {
   "cell_type": "code",
   "execution_count": 32,
   "metadata": {},
   "outputs": [
    {
     "name": "stdout",
     "output_type": "stream",
     "text": [
      "[HIGH LEVEL] Dave Log-in\n"
     ]
    }
   ],
   "source": [
    "log1()"
   ]
  },
  {
   "cell_type": "markdown",
   "metadata": {},
   "source": [
    "First -Class 함수 활용"
   ]
  },
  {
   "cell_type": "markdown",
   "metadata": {},
   "source": []
  },
  {
   "cell_type": "code",
   "execution_count": 37,
   "metadata": {},
   "outputs": [],
   "source": [
    "def html_creator(tag):\n",
    "    def text_wrapper(msg):\n",
    "        print('<{0}>{1}<{0}>'.format(tag,msg))\n",
    "    return text_wrapper\n",
    "h1_html_creator = html_creator('h1')"
   ]
  },
  {
   "cell_type": "code",
   "execution_count": 38,
   "metadata": {},
   "outputs": [
    {
     "name": "stdout",
     "output_type": "stream",
     "text": [
      "<function html_creator.<locals>.text_wrapper at 0x00000209E12972E0>\n"
     ]
    }
   ],
   "source": [
    "print(h1_html_creator)"
   ]
  },
  {
   "cell_type": "code",
   "execution_count": 40,
   "metadata": {},
   "outputs": [
    {
     "name": "stdout",
     "output_type": "stream",
     "text": [
      "<h1>Hi<h1>\n"
     ]
    }
   ],
   "source": [
    "h1_html_creator('Hi')"
   ]
  },
  {
   "cell_type": "code",
   "execution_count": 57,
   "metadata": {},
   "outputs": [],
   "source": [
    "def list_creator(tag):\n",
    "    def text_wrapper(item):\n",
    "        print('{0} {1}'.format(tag,item))\n",
    "    return text_wrapper\n",
    "        \n",
    "list_minus_creator = list_creator('-')"
   ]
  },
  {
   "cell_type": "code",
   "execution_count": 60,
   "metadata": {},
   "outputs": [
    {
     "name": "stdout",
     "output_type": "stream",
     "text": [
      "- (왕초보) - 클래스 소개\n",
      "- (왕초보) - 블로그 개발 필요한 준비물 준비하기\n",
      "- (왕초보) - Github pages 설정해서 블로그 첫 페이지 만들어보기\n",
      "- (왕초보) - 초간단 페이지 만들어보기\n",
      "- (왕초보) - 이쁘게 테마 적용해보기\n",
      "- (왕초보) - 마크다운 기초 이해하고, 실제 나만의 블로그 페이지 만들기\n",
      "- (왕초보) - 다양한 마크다운 기법 익혀보며, 나만의 블로그 페이지 꾸며보기\n"
     ]
    }
   ],
   "source": [
    "from bs4 import BeautifulSoup\n",
    "import requests\n",
    "\n",
    "res = requests.get('https://davelee-fun.github.io/blog/crawl_html_css.html')\n",
    "soup = BeautifulSoup(res.content,'html.parser')\n",
    "li_list = soup.select('ul#hobby_course_list > li')\n",
    "\n",
    "for li in li_list:\n",
    "    list_minus_creator(li.get_text())"
   ]
  },
  {
   "cell_type": "markdown",
   "metadata": {},
   "source": [
    "##### 클로저\n",
    "\n",
    "- 파이썬에서 함수는 객체다!\n",
    "- 함수에 함수를 인자로 넣을수 있고\n",
    "- 중첩 함수 가능\n"
   ]
  },
  {
   "cell_type": "markdown",
   "metadata": {},
   "source": [
    "### 데코레이터\n",
    "- 클로저 function을 활용"
   ]
  },
  {
   "cell_type": "code",
   "execution_count": 67,
   "metadata": {},
   "outputs": [
    {
     "name": "stdout",
     "output_type": "stream",
     "text": [
      "2023-10-22 21:23:08.625247\n",
      "david login\n",
      "2023-10-22 21:23:08.625247\n"
     ]
    }
   ],
   "source": [
    "import datetime\n",
    "\n",
    "def datetimelogger(func):\n",
    "    def wrapper():\n",
    "        print(datetime.datetime.now())\n",
    "        func()\n",
    "        print(datetime.datetime.now())\n",
    "    return wrapper\n",
    "\n",
    "@datetimelogger\n",
    "def logger_login_david():\n",
    "    print('david login')\n",
    "    \n",
    "logger_login_david()"
   ]
  },
  {
   "cell_type": "code",
   "execution_count": 71,
   "metadata": {},
   "outputs": [],
   "source": [
    "#  나누기 함수 만들기 \n",
    "#  유효성 검사\n",
    "\n",
    "def outer_func(function):\n",
    "    def inner_func(digit1,digit2):\n",
    "        if digit2 == 0: # 유효성 검사\n",
    "            print('cannot be divided with zero')\n",
    "            return \n",
    "        function(digit1, digit2)\n",
    "    return inner_func\n",
    "\n",
    "@outer_func\n",
    "def divide(digit1,digit2):\n",
    "    print(digit1 / digit2)"
   ]
  },
  {
   "cell_type": "code",
   "execution_count": 72,
   "metadata": {},
   "outputs": [
    {
     "name": "stdout",
     "output_type": "stream",
     "text": [
      "cannot be divided with zero\n"
     ]
    }
   ],
   "source": [
    "divide(4,0)"
   ]
  },
  {
   "cell_type": "code",
   "execution_count": 74,
   "metadata": {},
   "outputs": [
    {
     "name": "stdout",
     "output_type": "stream",
     "text": [
      "decorator #1\n",
      "decorator #2\n",
      "hello\n"
     ]
    }
   ],
   "source": [
    "#  다중 데코레이터 \n",
    "\n",
    "def decorator1(func):\n",
    "    def wrapper():\n",
    "        print('decorator #1')\n",
    "        func()\n",
    "    return wrapper\n",
    "\n",
    "def decorator2(func):\n",
    "    def wrapper():\n",
    "        print('decorator #2')\n",
    "        func()\n",
    "    return wrapper\n",
    "\n",
    "@decorator1\n",
    "@decorator2\n",
    "def hello():\n",
    "    print('hello')\n",
    "    \n",
    "hello()"
   ]
  },
  {
   "cell_type": "code",
   "execution_count": 77,
   "metadata": {},
   "outputs": [],
   "source": [
    "#  볼드체 데코레이터\n",
    "def mark_bold(function):\n",
    "    def wrapper(*args, **kwargs):\n",
    "        return '<b>' + function(*args, **kwargs) + '</b>'\n",
    "    return wrapper\n",
    "\n",
    "\n",
    "#  이테릭체 데코레이터\n",
    "def mark_italic(function):\n",
    "    def wrapper(*args, **kwargs):\n",
    "        return '<i>' + function(*args, **kwargs) + '</i>'\n",
    "    return wrapper"
   ]
  },
  {
   "cell_type": "code",
   "execution_count": 80,
   "metadata": {},
   "outputs": [
    {
     "name": "stdout",
     "output_type": "stream",
     "text": [
      "<i><b>안녕하세요</b></i>\n"
     ]
    }
   ],
   "source": [
    "@mark_italic\n",
    "@mark_bold\n",
    "def add_html(string):\n",
    "    return string\n",
    "\n",
    "print(add_html('안녕하세요'))"
   ]
  },
  {
   "cell_type": "markdown",
   "metadata": {},
   "source": [
    "## method Decorator\n",
    "\n",
    "- 클래스의 method에도 데코레이터 적용 가능\n",
    "    - 클래스 method는 첫 파라미터가 self 이므로 이부분을 데코레이터 작성시에 포함시켜야함"
   ]
  },
  {
   "cell_type": "code",
   "execution_count": 82,
   "metadata": {},
   "outputs": [
    {
     "name": "stdout",
     "output_type": "stream",
     "text": [
      "<b>안녕하세요<b>\n"
     ]
    }
   ],
   "source": [
    "# html 테그 만들기 \n",
    "\n",
    "def mark_html(tag):\n",
    "    def outer_wrapper(function):\n",
    "        def inner_wrapper(*args,**kwargs):\n",
    "            return '<{0}>{1}<{0}>'.format(tag, function(*args,**kwargs))\n",
    "        return inner_wrapper\n",
    "    return outer_wrapper\n",
    "\n",
    "\n",
    "@mark_html('b')\n",
    "def hello(str):\n",
    "    return str\n",
    "\n",
    "print(hello('안녕하세요'))"
   ]
  },
  {
   "cell_type": "code",
   "execution_count": null,
   "metadata": {},
   "outputs": [],
   "source": []
  }
 ],
 "metadata": {
  "kernelspec": {
   "display_name": "Python 3",
   "language": "python",
   "name": "python3"
  },
  "language_info": {
   "codemirror_mode": {
    "name": "ipython",
    "version": 3
   },
   "file_extension": ".py",
   "mimetype": "text/x-python",
   "name": "python",
   "nbconvert_exporter": "python",
   "pygments_lexer": "ipython3",
   "version": "3.11.6"
  }
 },
 "nbformat": 4,
 "nbformat_minor": 2
}
